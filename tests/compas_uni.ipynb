{
 "cells": [
  {
   "cell_type": "code",
   "execution_count": 149,
   "metadata": {
    "collapsed": true
   },
   "outputs": [
    {
     "name": "stdout",
     "output_type": "stream",
     "text": [
      "The autoreload extension is already loaded. To reload it, use:\n",
      "  %reload_ext autoreload\n",
      "Average_SF_mass_needed =  512001475.7816289 solMass\n",
      "Time taken for CI:  20.022253036499023\n"
     ]
    }
   ],
   "source": [
    "%load_ext autoreload\n",
    "%autoreload 2\n",
    "%matplotlib inline\n",
    "\n",
    "from compas_surrogate.cosmic_integration.universe import Universe\n",
    "\n",
    "\n",
    "uni = Universe.from_compas_h5(\"/Users/avaj0001/Downloads/Z_all/COMPAS_Output.h5\")\n",
    "\n"
   ]
  },
  {
   "cell_type": "code",
   "execution_count": 174,
   "outputs": [],
   "source": [
    "uni.save(\"uni.npz\")"
   ],
   "metadata": {
    "collapsed": false
   }
  },
  {
   "cell_type": "code",
   "execution_count": 193,
   "outputs": [],
   "source": [
    "uni = Universe.from_npz(\"uni.npz\")\n",
    "\n"
   ],
   "metadata": {
    "collapsed": false
   }
  },
  {
   "cell_type": "code",
   "execution_count": 195,
   "outputs": [
    {
     "data": {
      "text/plain": "<compas_surrogate.cosmic_integration.universe.Universe at 0x144b83220>"
     },
     "execution_count": 195,
     "metadata": {},
     "output_type": "execute_result"
    }
   ],
   "source": [
    "uni"
   ],
   "metadata": {
    "collapsed": false
   }
  },
  {
   "cell_type": "code",
   "execution_count": 31,
   "outputs": [
    {
     "data": {
      "text/plain": "0.0215"
     },
     "execution_count": 31,
     "metadata": {},
     "output_type": "execute_result"
    }
   ],
   "source": [],
   "metadata": {
    "collapsed": false
   }
  },
  {
   "cell_type": "code",
   "execution_count": 15,
   "outputs": [
    {
     "ename": "ValueError",
     "evalue": "Shape of detection rate matrix ((11735, 1000)) does not match redshift and chirp mass bins (10000, 11735)",
     "output_type": "error",
     "traceback": [
      "\u001B[0;31m---------------------------------------------------------------------------\u001B[0m",
      "\u001B[0;31mValueError\u001B[0m                                Traceback (most recent call last)",
      "Cell \u001B[0;32mIn [15], line 14\u001B[0m\n\u001B[1;32m      7\u001B[0m     \u001B[38;5;28;01mif\u001B[39;00m (\u001B[38;5;28mlen\u001B[39m(mc), \u001B[38;5;28mlen\u001B[39m(z)) \u001B[38;5;241m!=\u001B[39m detections\u001B[38;5;241m.\u001B[39mshape:\n\u001B[1;32m      8\u001B[0m         \u001B[38;5;28;01mraise\u001B[39;00m \u001B[38;5;167;01mValueError\u001B[39;00m(\n\u001B[1;32m      9\u001B[0m             \u001B[38;5;124mf\u001B[39m\u001B[38;5;124m\"\u001B[39m\u001B[38;5;124mShape of detection rate matrix (\u001B[39m\u001B[38;5;132;01m{\u001B[39;00mdetections\u001B[38;5;241m.\u001B[39mshape\u001B[38;5;132;01m}\u001B[39;00m\u001B[38;5;124m) \u001B[39m\u001B[38;5;124m\"\u001B[39m\n\u001B[1;32m     10\u001B[0m             \u001B[38;5;124mf\u001B[39m\u001B[38;5;124m\"\u001B[39m\u001B[38;5;124mdoes not match redshift and chirp mass bins (\u001B[39m\u001B[38;5;132;01m{\u001B[39;00m\u001B[38;5;28mlen\u001B[39m(z)\u001B[38;5;132;01m}\u001B[39;00m\u001B[38;5;124m, \u001B[39m\u001B[38;5;132;01m{\u001B[39;00m\u001B[38;5;28mlen\u001B[39m(mc)\u001B[38;5;132;01m}\u001B[39;00m\u001B[38;5;124m)\u001B[39m\u001B[38;5;124m\"\u001B[39m\n\u001B[1;32m     11\u001B[0m         )\n\u001B[0;32m---> 14\u001B[0m \u001B[43mplot_detection_rate_matrix\u001B[49m\u001B[43m(\u001B[49m\u001B[43muni\u001B[49m\u001B[43m)\u001B[49m\n",
      "Cell \u001B[0;32mIn [15], line 8\u001B[0m, in \u001B[0;36mplot_detection_rate_matrix\u001B[0;34m(uni)\u001B[0m\n\u001B[1;32m      6\u001B[0m detections \u001B[38;5;241m=\u001B[39m uni\u001B[38;5;241m.\u001B[39mdetection_rate\n\u001B[1;32m      7\u001B[0m \u001B[38;5;28;01mif\u001B[39;00m (\u001B[38;5;28mlen\u001B[39m(mc), \u001B[38;5;28mlen\u001B[39m(z)) \u001B[38;5;241m!=\u001B[39m detections\u001B[38;5;241m.\u001B[39mshape:\n\u001B[0;32m----> 8\u001B[0m     \u001B[38;5;28;01mraise\u001B[39;00m \u001B[38;5;167;01mValueError\u001B[39;00m(\n\u001B[1;32m      9\u001B[0m         \u001B[38;5;124mf\u001B[39m\u001B[38;5;124m\"\u001B[39m\u001B[38;5;124mShape of detection rate matrix (\u001B[39m\u001B[38;5;132;01m{\u001B[39;00mdetections\u001B[38;5;241m.\u001B[39mshape\u001B[38;5;132;01m}\u001B[39;00m\u001B[38;5;124m) \u001B[39m\u001B[38;5;124m\"\u001B[39m\n\u001B[1;32m     10\u001B[0m         \u001B[38;5;124mf\u001B[39m\u001B[38;5;124m\"\u001B[39m\u001B[38;5;124mdoes not match redshift and chirp mass bins (\u001B[39m\u001B[38;5;132;01m{\u001B[39;00m\u001B[38;5;28mlen\u001B[39m(z)\u001B[38;5;132;01m}\u001B[39;00m\u001B[38;5;124m, \u001B[39m\u001B[38;5;132;01m{\u001B[39;00m\u001B[38;5;28mlen\u001B[39m(mc)\u001B[38;5;132;01m}\u001B[39;00m\u001B[38;5;124m)\u001B[39m\u001B[38;5;124m\"\u001B[39m\n\u001B[1;32m     11\u001B[0m     )\n",
      "\u001B[0;31mValueError\u001B[0m: Shape of detection rate matrix ((11735, 1000)) does not match redshift and chirp mass bins (10000, 11735)"
     ]
    }
   ],
   "source": [
    "def plot_detection_rate_matrix(uni):\n",
    "    \"\"\" Plot the detection rate matrix \"\"\"\n",
    "    # get midpoints of redshift bins\n",
    "    z = 0.5 * (uni.redshifts[:-1] + uni.redshifts[1:])\n",
    "    mc = uni.COMPAS.mChirp\n",
    "    detections = uni.detection_rate\n",
    "    if (len(mc), len(z)) != detections.shape:\n",
    "        raise ValueError(\n",
    "            f\"Shape of detection rate matrix ({detections.shape}) \"\n",
    "            f\"does not match redshift and chirp mass bins ({len(z)}, {len(mc)})\"\n",
    "        )\n",
    "\n",
    "\n",
    "plot_detection_rate_matrix(uni)"
   ],
   "metadata": {
    "collapsed": false
   }
  },
  {
   "cell_type": "code",
   "execution_count": 21,
   "outputs": [
    {
     "name": "stdout",
     "output_type": "stream",
     "text": [
      "11735 10000\n",
      "(11735, 1000)\n"
     ]
    }
   ],
   "source": [
    "z = 0.5 * (uni.redshifts[:-1] + uni.redshifts[1:])\n",
    "mc = uni.COMPAS.mChirp\n",
    "detections = uni.detection_rate\n",
    "print(len(mc), len(z))\n",
    "\n",
    "print(detections.shape)"
   ],
   "metadata": {
    "collapsed": false
   }
  },
  {
   "cell_type": "code",
   "execution_count": 56,
   "outputs": [
    {
     "name": "stdout",
     "output_type": "stream",
     "text": [
      "Redshifts shape: (1000,)\n",
      "COMPS.mChirp shape: (11735,)\n",
      "Detection Rate shape: (11735, 1000)\n"
     ]
    }
   ],
   "source": [
    "redshifts, COMPAS, detection_rate = uni.redshifts.copy(), uni.COMPAS, uni.detection_rate.copy()\n",
    "redshifts = redshifts[redshifts<=1]\n",
    "redshifts = 0.5 * (redshifts[:-1] + redshifts[1:])\n",
    "print(f\"Redshifts shape: {redshifts.shape}\")\n",
    "print(f\"COMPS.mChirp shape: {COMPAS.mChirp.shape}\")\n",
    "print(f\"Detection Rate shape: {detection_rate.shape}\")"
   ],
   "metadata": {
    "collapsed": false
   }
  },
  {
   "cell_type": "code",
   "execution_count": 199,
   "outputs": [
    {
     "data": {
      "text/plain": "<Figure size 640x480 with 1 Axes>",
      "image/png": "[encoded data removed]"
     },
     "metadata": {},
     "output_type": "display_data"
    }
   ],
   "source": [
    "import matplotlib.pyplot as plt\n",
    "\n",
    "chirp_masses = uni.dco_chirp_masses\n",
    "_ = plt.hist(chirp_masses, bins=np.linspace(min(chirp_masses), max(chirp_masses), 40))"
   ],
   "metadata": {
    "collapsed": false
   }
  },
  {
   "cell_type": "code",
   "execution_count": 209,
   "outputs": [
    {
     "name": "stdout",
     "output_type": "stream",
     "text": [
      "5000000\n",
      "80123\n",
      "80123\n",
      "80123\n",
      "80123\n",
      "80123\n"
     ]
    }
   ],
   "source": [
    "print(COMPAS.n_systems)\n",
    "print(len(COMPAS.BBHmask))\n",
    "print(len(COMPAS.BHNSmask))\n",
    "print(len(COMPAS.CHE_BBHmask))\n",
    "print(len(COMPAS.CHE_mask))\n",
    "print(len(COMPAS.DCOmask))\n",
    "\n",
    "#\n",
    "# ['BBHmask',\n",
    "#  'BHNSmask',\n",
    "#  'CHE_BBHmask',\n",
    "#  'CHE_mask',\n",
    "#  'DCOmask',\n",
    "#  'DNSmask',\n",
    "#  'Hubble',\n",
    "#  'Mlower',\n",
    "#  'Mupper',\n",
    "#  'NonCHE_BBHmask'"
   ],
   "metadata": {
    "collapsed": false
   }
  },
  {
   "cell_type": "code",
   "execution_count": null,
   "outputs": [],
   "source": [
    "COMPAS"
   ],
   "metadata": {
    "collapsed": false
   }
  },
  {
   "cell_type": "code",
   "execution_count": 86,
   "outputs": [],
   "source": [
    "%matplotlib inline"
   ],
   "metadata": {
    "collapsed": false
   }
  },
  {
   "cell_type": "code",
   "execution_count": 92,
   "outputs": [
    {
     "data": {
      "text/plain": "interactive(children=(IntSlider(value=0, description='i', max=1000), Output(layout=Layout(height='350px'))), _…",
      "application/vnd.jupyter.widget-view+json": {
       "version_major": 2,
       "version_minor": 0,
       "model_id": "715c12c8488a4169a93874e2fa97e917"
      }
     },
     "execution_count": 92,
     "metadata": {},
     "output_type": "execute_result"
    }
   ],
   "source": [
    "from ipywidgets import interactive\n",
    "\n",
    "def plot(i=0):\n",
    "    plt.figure()\n",
    "    plt.plot(redshifts, detection_rate[i, :], label=f\"Mc: {mc[i]:.2f} Msol\")\n",
    "    plt.ylabel(\"Detection Rate\")\n",
    "    plt.xlabel(\"Redshift\")\n",
    "    plt.legend()\n",
    "    return plt.gca()\n",
    "\n",
    "interactive_plot = interactive(plot, i=(0, 1000))\n",
    "output = interactive_plot.children[-1]\n",
    "output.layout.height = '350px'\n",
    "interactive_plot\n"
   ],
   "metadata": {
    "collapsed": false
   }
  },
  {
   "cell_type": "code",
   "execution_count": 216,
   "outputs": [],
   "source": [
    "from tqdm.auto import tqdm"
   ],
   "metadata": {
    "collapsed": false
   }
  },
  {
   "cell_type": "code",
   "execution_count": 226,
   "outputs": [
    {
     "data": {
      "text/plain": "array([ 3638,  5872,  8577, 11733,  7369,   708,  3914,  9472,  1442,\n        2733,  2979,  8843,  4521,  9963,  7718,  5821,  9769,  3465,\n       10673,  6363,  8777,  8113, 10837, 11060,  3585, 10397,  3912,\n        7510,  5400,  3365,  5117,  4343, 10725,  5324,  8539,  2160,\n        2224,  1043,  2698,  2661,  4934,  8461,  4705,  2274,  1003,\n        4209,  9052, 10435,  6618,  7251, 10381,  7036, 10878,  2002,\n         408,  9114,  3129,  6914,   328,  4397, 11151, 10188,  4355,\n        2085,   950,  4446,  5396,  6159,  3851, 10123, 10338,  4101,\n        9210,  9840,  9196,  1859,   669, 10960,  6170,  1909,  6969,\n        9078,   587,  2392,  5959,  5034,   809,  8402, 10062,  2286,\n        6069,   789,  5852,  6503,  8733,  5667,  6301,  1617,  9239,\n        1503, 10029, 11261, 10731,  6703,  1008,    98,  4623,  7010,\n       10776,  2242,  7921,  4329, 10275,  3404,  7034,  2519,  7174,\n        7185])"
     },
     "execution_count": 226,
     "metadata": {},
     "output_type": "execute_result"
    }
   ],
   "source": [],
   "metadata": {
    "collapsed": false
   }
  },
  {
   "cell_type": "code",
   "execution_count": 242,
   "outputs": [
    {
     "data": {
      "text/plain": "  0%|          | 0/118 [00:00<?, ?it/s]",
      "application/vnd.jupyter.widget-view+json": {
       "version_major": 2,
       "version_minor": 0,
       "model_id": "769b4fe3ce79463ab2cc9d499ef960e8"
      }
     },
     "metadata": {},
     "output_type": "display_data"
    },
    {
     "data": {
      "text/plain": "(0.0, 1.0)"
     },
     "execution_count": 242,
     "metadata": {},
     "output_type": "execute_result"
    },
    {
     "data": {
      "text/plain": "<Figure size 640x480 with 1 Axes>",
      "image/png": "[encoded data removed]"
     },
     "metadata": {},
     "output_type": "display_data"
    }
   ],
   "source": [
    "import matplotlib as mpl\n",
    "\n",
    "plt.figure()\n",
    "\n",
    "norm = mpl.colors.Normalize(vmin=np.exp(-80), vmax=np.exp(-40))\n",
    "\n",
    "for i in tqdm(np.argsort(mc)[0::100]):\n",
    "    x = redshifts\n",
    "    y = [mc[i] for _ in range(len(x))]\n",
    "    z = list(detection_rate[i, :])\n",
    "    plt.scatter(x, y, c=z, norm=norm)\n",
    "plt.ylabel(\"Mc\")\n",
    "plt.xlabel(\"Redshift\")\n",
    "plt.ylim(0, 45)\n",
    "plt.xlim(0, 1)"
   ],
   "metadata": {
    "collapsed": false
   }
  },
  {
   "cell_type": "code",
   "execution_count": 237,
   "outputs": [
    {
     "name": "stderr",
     "output_type": "stream",
     "text": [
      "/var/folders/qt/rxjvm_j566v9qn7g754s1v9hzb3p7f/T/ipykernel_35463/2662532800.py:1: RuntimeWarning: divide by zero encountered in log\n",
      "  x = np.log(detection_rate.ravel())\n"
     ]
    },
    {
     "data": {
      "text/plain": "<Figure size 640x480 with 1 Axes>",
      "image/png": "[encoded data removed]"
     },
     "metadata": {},
     "output_type": "display_data"
    }
   ],
   "source": [
    "x = np.log(detection_rate.ravel())\n",
    "x = x[x>-10000]\n",
    "\n",
    "_ = plt.hist(x)"
   ],
   "metadata": {
    "collapsed": false
   }
  },
  {
   "cell_type": "code",
   "execution_count": 238,
   "outputs": [
    {
     "data": {
      "text/plain": "3.720075976020836e-44"
     },
     "execution_count": 238,
     "metadata": {},
     "output_type": "execute_result"
    }
   ],
   "source": [],
   "metadata": {
    "collapsed": false
   }
  },
  {
   "cell_type": "code",
   "execution_count": 220,
   "outputs": [
    {
     "data": {
      "text/plain": "array([ 2.62493162,  2.63340936,  2.70996412, ..., 38.15917849,\n       38.16024936, 38.16060978])"
     },
     "execution_count": 220,
     "metadata": {},
     "output_type": "execute_result"
    }
   ],
   "source": [
    "sorted_mc"
   ],
   "metadata": {
    "collapsed": false
   }
  },
  {
   "cell_type": "code",
   "execution_count": 214,
   "outputs": [
    {
     "data": {
      "text/plain": "118"
     },
     "execution_count": 214,
     "metadata": {},
     "output_type": "execute_result"
    }
   ],
   "source": [
    ")"
   ],
   "metadata": {
    "collapsed": false
   }
  },
  {
   "cell_type": "code",
   "execution_count": 97,
   "outputs": [
    {
     "data": {
      "text/plain": "array([12.6920303 , 31.93705489, 12.5056888 , ..., 14.43854332,\n        4.94138285, 18.66262047])"
     },
     "execution_count": 97,
     "metadata": {},
     "output_type": "execute_result"
    }
   ],
   "source": [
    "sorted_mc =sorted(mc)\n",
    "mc_idx = np.argsort(mc)\n",
    "\n"
   ],
   "metadata": {
    "collapsed": false
   }
  },
  {
   "cell_type": "code",
   "execution_count": 108,
   "outputs": [
    {
     "data": {
      "text/plain": "[0, 1, 2, 3, 4, 5]"
     },
     "execution_count": 108,
     "metadata": {},
     "output_type": "execute_result"
    }
   ],
   "source": [
    "arr = np.array([5, 4, 3,2,1,0])\n",
    "list(arr[np.argsort(arr)])"
   ],
   "metadata": {
    "collapsed": false
   }
  },
  {
   "cell_type": "code",
   "execution_count": 111,
   "outputs": [
    {
     "data": {
      "text/plain": "[38.160609781264746,\n 38.160609781264746,\n 38.160609781264746,\n 38.160609781264746,\n 38.160609781264746,\n 38.160609781264746,\n 38.160609781264746,\n 38.160609781264746,\n 38.160609781264746,\n 38.160609781264746]"
     },
     "execution_count": 111,
     "metadata": {},
     "output_type": "execute_result"
    }
   ],
   "source": [
    "[mc[i] for _ in range(10)]"
   ],
   "metadata": {
    "collapsed": false
   }
  }
 ],
 "metadata": {
  "kernelspec": {
   "display_name": "Python 3",
   "language": "python",
   "name": "python3"
  },
  "language_info": {
   "codemirror_mode": {
    "name": "ipython",
    "version": 2
   },
   "file_extension": ".py",
   "mimetype": "text/x-python",
   "name": "python",
   "nbconvert_exporter": "python",
   "pygments_lexer": "ipython2",
   "version": "2.7.6"
  }
 },
 "nbformat": 4,
 "nbformat_minor": 0
}
